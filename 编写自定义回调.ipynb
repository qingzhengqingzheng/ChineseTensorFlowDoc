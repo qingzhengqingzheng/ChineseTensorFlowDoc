{
 "cells": [
  {
   "cell_type": "markdown",
   "metadata": {
    "colab_type": "text",
    "id": "KiAYwLOBYHKb"
   },
   "source": [
    "# 编写自定义回调\n",
    "\n",
    "### 介绍\n",
    "\n",
    "回调是一种强大的工具，可以在训练，评估或预测期间自定义Keras模型的行为。示例包括通过TensorBoard的[`tf.keras.callbacks.TensorBoard`](https://tensorflow.google.cn/api_docs/python/tf/keras/callbacks/TensorBoard)可视化训练进度和结果，和[`tf.keras.callbacks.ModelCheckpoint`](https://tensorflow.google.cn/api_docs/python/tf/keras/callbacks/ModelCheckpoint)在训练期间定期保存模型。\n",
    "\n",
    "在本指南中，你将了解Keras回调是什么，它可以做什么以及如何构建自己的回调。我们提供了一些简单的回调示例，以帮助你入门。\n",
    "\n",
    "### 引入"
   ]
  },
  {
   "cell_type": "code",
   "execution_count": null,
   "metadata": {
    "colab": {},
    "colab_type": "code",
    "id": "tivL9jQfX_Kg"
   },
   "outputs": [],
   "source": [
    "import tensorflow as tf\n",
    "from tensorflow import keras"
   ]
  },
  {
   "cell_type": "markdown",
   "metadata": {
    "colab_type": "text",
    "id": "RUlCZBMfYTlt"
   },
   "source": [
    "### Keras回调概述\n",
    "\n",
    "所有回调都是`keras.callbacks.Callback`类的子类，并覆盖在训练，评估和预测的各个阶段调用的一组方法。回调对于在训练期间了解模型的内部状态和统计信息很有用。\n",
    "\n",
    "你可以将回调列表（使用关键字参数`callbacks`）传递给以下模型方法：\n",
    "\n",
    "+ [`keras.Model.fit()`](https://tensorflow.google.cn/api_docs/python/tf/keras/Model#fit)\n",
    "+ [`keras.Model.evaluate()`](https://tensorflow.google.cn/api_docs/python/tf/keras/Model#evaluate)\n",
    "+ [`keras.Model.predict()`](https://tensorflow.google.cn/api_docs/python/tf/keras/Model#predict)\n",
    "\n",
    "### 回调方法概述\n",
    "\n",
    "#### 全局方法\n",
    "\n",
    "`on_(train|test|predict)_begin(self, logs=None)`\n",
    "\n",
    "在`fit`/`evaluate`/`predict`开始时调用。\n",
    "\n",
    "`on_(train|test|predict)_end(self, logs=None)`\n",
    "在`fit`/`evaluate`/`predict`结束时调用。\n",
    "\n",
    "#### 用于训练/验证/预测的批处理方法\n",
    "\n",
    "`on_(train|test|predict)_batch_begin(self, batch, logs=None) `\n",
    "\n",
    "在训练/验证/预测期间，处理批次之前立即调用。\n",
    "\n",
    "`on_(train|test|predict)_batch_end(self, batch, logs=None)`\n",
    "\n",
    "在训练/验证/预测批次结束时调用，在此方法中， logs是包含指标结果的字典。\n",
    "\n",
    "#### epoch级别的方法（仅训练）\n",
    "\n",
    "`on_epoch_begin(self, epoch, logs=None)`\n",
    "\n",
    "在训练期间的epoch开始时调用。\n",
    "\n",
    "`on_epoch_end(self, epoch, logs=None)`\n",
    "\n",
    "在训练期间的epoch末尾调用。\n",
    "\n",
    "### 一个基本的示例\n",
    "\n",
    "让我们看一个具体的例子，首先，让我们导入tensorflow并定义一个简单的Sequential模型："
   ]
  },
  {
   "cell_type": "code",
   "execution_count": null,
   "metadata": {
    "colab": {},
    "colab_type": "code",
    "id": "Qjda5RBFYr_V"
   },
   "outputs": [],
   "source": [
    "# 定义Keras模型用于添加回调\n",
    "def get_model():\n",
    "    model = keras.Sequential()\n",
    "    model.add(keras.layers.Dense(1, input_dim=784))\n",
    "    model.compile(\n",
    "        optimizer=keras.optimizers.RMSprop(learning_rate=0.1),\n",
    "        loss=\"mean_squared_error\",\n",
    "        metrics=[\"mean_absolute_error\"],\n",
    "    )\n",
    "    return model"
   ]
  },
  {
   "cell_type": "markdown",
   "metadata": {
    "colab_type": "text",
    "id": "gPgyTSDjYs-v"
   },
   "source": [
    "然后，从Keras数据集API中加载MNIST数据用于训练和测试："
   ]
  },
  {
   "cell_type": "code",
   "execution_count": null,
   "metadata": {
    "colab": {
     "base_uri": "https://localhost:8080/",
     "height": 53
    },
    "colab_type": "code",
    "id": "lOtj1XaPYuHR",
    "outputId": "5a7e6e7b-f285-4aae-d5aa-1d511334d29f"
   },
   "outputs": [],
   "source": [
    "# 加载MNIST数据并进行预处理\n",
    "(x_train, y_train), (x_test, y_test) = tf.keras.datasets.mnist.load_data()\n",
    "x_train = x_train.reshape(-1, 784).astype(\"float32\") / 255.0\n",
    "x_test = x_test.reshape(-1, 784).astype(\"float32\") / 255.0\n",
    "\n",
    "# 仅使用1000个样本\n",
    "x_train = x_train[:1000]\n",
    "y_train = y_train[:1000]\n",
    "x_test = x_test[:1000]\n",
    "y_test = y_test[:1000]"
   ]
  },
  {
   "cell_type": "markdown",
   "metadata": {
    "colab_type": "text",
    "id": "VO9B5cmmY11F"
   },
   "source": [
    "现在，定义一个简单的自定义回调来记录：\n",
    "\n",
    "+ `fit`/`evaluate`/`predict`何时开始和结束\n",
    "+ 每个epoch何时开始和结束\n",
    "+ 每批训练何时开始和结束\n",
    "+ 每个评估（测试）批量何时开始和结束\n",
    "+ 每个推断（预测）批量何时开始和结束"
   ]
  },
  {
   "cell_type": "code",
   "execution_count": null,
   "metadata": {
    "colab": {},
    "colab_type": "code",
    "id": "6I0I6EE_Y4Eh"
   },
   "outputs": [],
   "source": [
    "class CustomCallback(keras.callbacks.Callback):\n",
    "    def on_train_begin(self, logs=None):\n",
    "        # print(logs)\n",
    "        # keys = list(logs.keys())\n",
    "        print(\"Starting training; got log keys: {}\".format(logs))\n",
    "\n",
    "    def on_train_end(self, logs=None):\n",
    "        # keys = list(logs.keys())\n",
    "        print(\"Stop training; got log keys: {}\".format(logs))\n",
    "\n",
    "    def on_epoch_begin(self, epoch, logs=None):\n",
    "        # keys = list(logs.keys())\n",
    "        print(\"Start epoch {} of training; got log keys: {}\".format(epoch, logs))\n",
    "\n",
    "    def on_epoch_end(self, epoch, logs=None):\n",
    "        # keys = list(logs.keys())\n",
    "        print(\"End epoch {} of training; got log keys: {}\".format(epoch, logs))\n",
    "\n",
    "    def on_test_begin(self, logs=None):\n",
    "        # keys = list(logs.keys())\n",
    "        print(\"Start testing; got log keys: {}\".format(logs))\n",
    "\n",
    "    def on_test_end(self, logs=None):\n",
    "        # keys = list(logs.keys())\n",
    "        print(\"Stop testing; got log keys: {}\".format(logs))\n",
    "\n",
    "    def on_predict_begin(self, logs=None):\n",
    "        # keys = list(logs.keys())\n",
    "        print(\"Start predicting; got log keys: {}\".format(logs))\n",
    "\n",
    "    def on_predict_end(self, logs=None):\n",
    "        # keys = list(logs.keys())\n",
    "        print(\"Stop predicting; got log keys: {}\".format(logs))\n",
    "\n",
    "    def on_train_batch_begin(self, batch, logs=None):\n",
    "        # keys = list(logs.keys())\n",
    "        print(\"...Training: start of batch {}; got log keys: {}\".format(batch, logs))\n",
    "\n",
    "    def on_train_batch_end(self, batch, logs=None):\n",
    "        # keys = list(logs.keys())\n",
    "        print(\"...Training: end of batch {}; got log keys: {}\".format(batch, logs))\n",
    "\n",
    "    def on_test_batch_begin(self, batch, logs=None):\n",
    "        # keys = list(logs.keys())\n",
    "        print(\"...Evaluating: start of batch {}; got log keys: {}\".format(batch, logs))\n",
    "\n",
    "    def on_test_batch_end(self, batch, logs=None):\n",
    "        # keys = list(logs.keys())\n",
    "        print(\"...Evaluating: end of batch {}; got log keys: {}\".format(batch, logs))\n",
    "\n",
    "    def on_predict_batch_begin(self, batch, logs=None):\n",
    "        # keys = list(logs.keys())\n",
    "        print(\"...Predicting: start of batch {}; got log keys: {}\".format(batch, logs))\n",
    "\n",
    "    def on_predict_batch_end(self, batch, logs=None):\n",
    "        # keys = list(logs.keys())\n",
    "        print(\"...Predicting: end of batch {}; got log keys: {}\".format(batch, logs))"
   ]
  },
  {
   "cell_type": "markdown",
   "metadata": {
    "colab_type": "text",
    "id": "Tmsx0CzoY46q"
   },
   "source": [
    "让我们尝试运行一下："
   ]
  },
  {
   "cell_type": "code",
   "execution_count": null,
   "metadata": {
    "colab": {
     "base_uri": "https://localhost:8080/",
     "height": 1000
    },
    "colab_type": "code",
    "id": "OhBCWZPqY56N",
    "outputId": "d4d20d3b-51db-4748-b0f9-ef9fa6e8cb28"
   },
   "outputs": [],
   "source": [
    "model = get_model()\n",
    "model.fit(\n",
    "    x_train,\n",
    "    y_train,\n",
    "    batch_size=128,\n",
    "    epochs=1,\n",
    "    verbose=0,\n",
    "    validation_split=0.5,\n",
    "    callbacks=[CustomCallback()],\n",
    ")\n",
    "\n",
    "res = model.evaluate(\n",
    "    x_test, y_test, batch_size=128, verbose=0, callbacks=[CustomCallback()]\n",
    ")\n",
    "\n",
    "res = model.predict(x_test, batch_size=128, callbacks=[CustomCallback()])"
   ]
  },
  {
   "cell_type": "markdown",
   "metadata": {
    "colab_type": "text",
    "id": "x5fAmCzHY7Jk"
   },
   "source": [
    "### logs字典的用法\n",
    "\n",
    "`logs`字典包含损失值以及批量或epoch末尾的所有指标，示例包括损失和平均绝对误差。"
   ]
  },
  {
   "cell_type": "code",
   "execution_count": null,
   "metadata": {
    "colab": {
     "base_uri": "https://localhost:8080/",
     "height": 485
    },
    "colab_type": "code",
    "id": "BkRHOygbY_M5",
    "outputId": "293ca1ba-f8ea-445d-8c7d-2f0f206c2a16"
   },
   "outputs": [],
   "source": [
    "class LossAndErrorPrintingCallback(keras.callbacks.Callback):\n",
    "    def on_train_batch_end(self, batch, logs=None):\n",
    "        print(\"For batch {}, loss is {:7.2f}.\".format(batch, logs[\"loss\"]))\n",
    "\n",
    "    def on_test_batch_end(self, batch, logs=None):\n",
    "        print(\"For batch {}, loss is {:7.2f}.\".format(batch, logs[\"loss\"]))\n",
    "\n",
    "    def on_epoch_end(self, epoch, logs=None):\n",
    "        print(\n",
    "            \"The average loss for epoch {} is {:7.2f} \"\n",
    "            \"and mean absolute error is {:7.2f}.\".format(\n",
    "                epoch, logs[\"loss\"], logs[\"mean_absolute_error\"]\n",
    "            )\n",
    "        )\n",
    "\n",
    "\n",
    "model = get_model()\n",
    "model.fit(\n",
    "    x_train,\n",
    "    y_train,\n",
    "    batch_size=128,\n",
    "    epochs=2,\n",
    "    verbose=0,\n",
    "    callbacks=[LossAndErrorPrintingCallback()],\n",
    ")\n",
    "\n",
    "res = model.evaluate(\n",
    "    x_test,\n",
    "    y_test,\n",
    "    batch_size=128,\n",
    "    verbose=0,\n",
    "    callbacks=[LossAndErrorPrintingCallback()],\n",
    ")"
   ]
  },
  {
   "cell_type": "markdown",
   "metadata": {
    "colab_type": "text",
    "id": "yNHii8xrZCqr"
   },
   "source": [
    "### self.model属性的用法\n",
    "\n",
    "除了在调用其中一种方法时接收日志信息外，回调还可以访问与当前一轮训练/评估/预测相关的模型： `self.model`。\n",
    "\n",
    "以下是你可以在回调中使用`self.model`进行的一些操作：\n",
    "\n",
    "+ 设置`self.model.stop_training = True`可以立即中断训练。\n",
    "+ 修改优化器的超参数（当`self.model.optimizer`可用时），例如`self.model.optimizer.learning_rate`。\n",
    "+ 定期保存模型。\n",
    "+ 在每个epoch结束时，在一些测试样本上记录`model.predict()`的输出，用于在训练期间用作健壮性检查。\n",
    "+ 在每个epoch结束时提取中间特征的可视化，以监视模型随时间推移的正在学习的内容。\n",
    "+ 等等\n",
    "\n",
    "让我们在几个示例了解上述操作。\n",
    "\n",
    "### Keras回调应用示例\n",
    "\n",
    "#### 在最小的损失下尽早停止\n",
    "\n",
    "第一个示例展示了在达到最小损失时，如何通过`Callback`设置属性`self.model.stop_training`（boolean）来停止训练。（可选）你可以提供一个参数`patience`来指定在达到局部最小值后，我们应该在停止之前等待多少个epoch。\n",
    "\n",
    "[`tf.keras.callbacks.EarlyStopping`](https://tensorflow.google.cn/api_docs/python/tf/keras/callbacks/EarlyStopping)提供了更完整和通用的实现。"
   ]
  },
  {
   "cell_type": "code",
   "execution_count": null,
   "metadata": {
    "colab": {
     "base_uri": "https://localhost:8080/",
     "height": 395
    },
    "colab_type": "code",
    "id": "4XJSpN8RZM5l",
    "outputId": "97f8bd31-63d8-4a49-f60c-c7530ba0ed14"
   },
   "outputs": [],
   "source": [
    "import numpy as np\n",
    "\n",
    "\n",
    "class EarlyStoppingAtMinLoss(keras.callbacks.Callback):\n",
    "    \"\"\"当损失达到最小时停止训练，即损失停止减少\n",
    "\n",
    "  参数:\n",
    "      patience: 达到最小后要等待的epoch数。在此数目没有改善后，训练将停止。\n",
    "  \"\"\"\n",
    "\n",
    "    def __init__(self, patience=0):\n",
    "        super(EarlyStoppingAtMinLoss, self).__init__()\n",
    "        self.patience = patience\n",
    "        # best_weights用于存储发生最小损失的权重\n",
    "        self.best_weights = None\n",
    "\n",
    "    def on_train_begin(self, logs=None):\n",
    "        # 损失不再最小时已等待的epoch数\n",
    "        self.wait = 0\n",
    "        # 训练停止的epoch\n",
    "        self.stopped_epoch = 0\n",
    "        # 将最佳状态初始化为无穷大\n",
    "        self.best = np.Inf\n",
    "\n",
    "    def on_epoch_end(self, epoch, logs=None):\n",
    "        current = logs.get(\"loss\")\n",
    "        if np.less(current, self.best):\n",
    "            self.best = current\n",
    "            self.wait = 0\n",
    "            # 如果当前结果更好，则记录最佳权重\n",
    "            self.best_weights = self.model.get_weights()\n",
    "        else:\n",
    "            self.wait += 1\n",
    "            if self.wait >= self.patience:\n",
    "                self.stopped_epoch = epoch\n",
    "                self.model.stop_training = True\n",
    "                print(\"Restoring model weights from the end of the best epoch.\")\n",
    "                self.model.set_weights(self.best_weights)\n",
    "\n",
    "    def on_train_end(self, logs=None):\n",
    "        if self.stopped_epoch > 0:\n",
    "            print(\"Epoch %05d: early stopping\" % (self.stopped_epoch + 1))\n",
    "\n",
    "\n",
    "model = get_model()\n",
    "model.fit(\n",
    "    x_train,\n",
    "    y_train,\n",
    "    batch_size=64,\n",
    "    steps_per_epoch=5,\n",
    "    epochs=30,\n",
    "    verbose=0,\n",
    "    callbacks=[LossAndErrorPrintingCallback(), EarlyStoppingAtMinLoss()],\n",
    ")"
   ]
  },
  {
   "cell_type": "markdown",
   "metadata": {
    "colab_type": "text",
    "id": "5dWyHcx8ZOn3"
   },
   "source": [
    "#### 学习率策略\n",
    "\n",
    "在此示例中，我们展示了在训练过程中如何使用自定义的回调来动态更改优化器的学习率。\n",
    "\n",
    "有关更一般的实现，请参见[`callbacks.LearningRateScheduler`](https://tensorflow.google.cn/api_docs/python/tf/keras/callbacks/LearningRateScheduler)。"
   ]
  },
  {
   "cell_type": "code",
   "execution_count": null,
   "metadata": {
    "colab": {
     "base_uri": "https://localhost:8080/",
     "height": 1000
    },
    "colab_type": "code",
    "id": "rzYdcNZgZR8r",
    "outputId": "fab59976-ba7a-40a5-acb6-4e6439c5ac54"
   },
   "outputs": [],
   "source": [
    "class CustomLearningRateScheduler(keras.callbacks.Callback):\n",
    "    \"\"\"学习率调度器，根据策略设置学习率\n",
    "\n",
    "  参数:\n",
    "      策略: 该函数以epoch索引（整数，从0开始的\n",
    "      索引）和当前学习率作为输入，并返回新的学习率作为输出（浮点数）\n",
    "  \"\"\"\n",
    "\n",
    "    def __init__(self, schedule):\n",
    "        super(CustomLearningRateScheduler, self).__init__()\n",
    "        self.schedule = schedule\n",
    "\n",
    "    def on_epoch_begin(self, epoch, logs=None):\n",
    "        if not hasattr(self.model.optimizer, \"lr\"):\n",
    "            raise ValueError('Optimizer must have a \"lr\" attribute.')\n",
    "        # 从模型的优化器获取当前学习率\n",
    "        lr = float(tf.keras.backend.get_value(self.model.optimizer.learning_rate))\n",
    "        # 调用策略功能以获取计划的学习率\n",
    "        scheduled_lr = self.schedule(epoch, lr)\n",
    "        # 在此epoch开始之前，将值设置回优化器\n",
    "        tf.keras.backend.set_value(self.model.optimizer.lr, scheduled_lr)\n",
    "        print(\"\\nEpoch %05d: Learning rate is %6.4f.\" % (epoch, scheduled_lr))\n",
    "\n",
    "\n",
    "LR_SCHEDULE = [\n",
    "    # （开始epoch值，学习率）元组\n",
    "    (3, 0.05),\n",
    "    (6, 0.01),\n",
    "    (9, 0.005),\n",
    "    (12, 0.001),\n",
    "]\n",
    "\n",
    "\n",
    "def lr_schedule(epoch, lr):\n",
    "    \"\"\"辅助方法可根据epoch检索计划的学习率\"\"\"\n",
    "    if epoch < LR_SCHEDULE[0][0] or epoch > LR_SCHEDULE[-1][0]:\n",
    "        return lr\n",
    "    for i in range(len(LR_SCHEDULE)):\n",
    "        if epoch == LR_SCHEDULE[i][0]:\n",
    "            return LR_SCHEDULE[i][1]\n",
    "    return lr\n",
    "\n",
    "\n",
    "model = get_model()\n",
    "model.fit(\n",
    "    x_train,\n",
    "    y_train,\n",
    "    batch_size=64,\n",
    "    steps_per_epoch=5,\n",
    "    epochs=15,\n",
    "    verbose=0,\n",
    "    callbacks=[\n",
    "        LossAndErrorPrintingCallback(),\n",
    "        CustomLearningRateScheduler(lr_schedule),\n",
    "    ],\n",
    ")"
   ]
  },
  {
   "cell_type": "markdown",
   "metadata": {
    "colab_type": "text",
    "id": "A-CvbDU6Zbnt"
   },
   "source": [
    "#### 内置Keras回调\n",
    "\n",
    "请务必阅读[API文档](https://tensorflow.google.cn/api_docs/python/tf/keras/callbacks/)，以检查现有的Keras回调。应用包括记录到CSV，保存模型，在TensorBoard中可视化指标等等！"
   ]
  }
 ],
 "metadata": {
  "colab": {
   "authorship_tag": "ABX9TyPTRJJZtfRZ+HG4keLtuoXo",
   "name": "编写自定义回调.ipynb",
   "provenance": []
  },
  "kernelspec": {
   "display_name": "py37tf2",
   "language": "python",
   "name": "py37tf2"
  },
  "language_info": {
   "codemirror_mode": {
    "name": "ipython",
    "version": 3
   },
   "file_extension": ".py",
   "mimetype": "text/x-python",
   "name": "python",
   "nbconvert_exporter": "python",
   "pygments_lexer": "ipython3",
   "version": "3.7.9"
  }
 },
 "nbformat": 4,
 "nbformat_minor": 1
}
